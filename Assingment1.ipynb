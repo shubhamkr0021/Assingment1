{
 "cells": [
  {
   "cell_type": "markdown",
   "id": "6d515c32-454c-42e5-a7af-ad3d0effdb82",
   "metadata": {},
   "source": [
    "Q1. Create one variable containing following type of data:"
   ]
  },
  {
   "cell_type": "code",
   "execution_count": 1,
   "id": "b7d5feff-5302-4b45-b300-4e78cd16fcd4",
   "metadata": {},
   "outputs": [],
   "source": [
    "#String\n",
    "my_string = \"Welcome to PWskills\""
   ]
  },
  {
   "cell_type": "code",
   "execution_count": 5,
   "id": "a1825cc1-88b1-4736-8e55-f4e094e1d0f4",
   "metadata": {},
   "outputs": [
    {
     "data": {
      "text/plain": [
       "'Welcome to PWskills'"
      ]
     },
     "execution_count": 5,
     "metadata": {},
     "output_type": "execute_result"
    }
   ],
   "source": [
    "my_string"
   ]
  },
  {
   "cell_type": "code",
   "execution_count": 20,
   "id": "166b2d2d-be20-49bf-b66d-f93a3d75ad8f",
   "metadata": {},
   "outputs": [],
   "source": [
    "#list\n",
    "s1 = [1,2,\"shubham\",'kumar',6,7, 4.5]"
   ]
  },
  {
   "cell_type": "code",
   "execution_count": 18,
   "id": "1d804e16-c126-4cf6-b8bc-ab1f25d033d1",
   "metadata": {},
   "outputs": [
    {
     "data": {
      "text/plain": [
       "[1, 2, 'shubham', 'kumar', 6, 7, 4.5]"
      ]
     },
     "execution_count": 18,
     "metadata": {},
     "output_type": "execute_result"
    }
   ],
   "source": [
    "s1"
   ]
  },
  {
   "cell_type": "code",
   "execution_count": 21,
   "id": "d895a169-d074-4622-a15f-af7e31a69b7b",
   "metadata": {},
   "outputs": [],
   "source": [
    "#float\n",
    "d = 5.66"
   ]
  },
  {
   "cell_type": "code",
   "execution_count": 22,
   "id": "c321981d-bb79-4643-9871-e7cfe442bcbf",
   "metadata": {},
   "outputs": [
    {
     "data": {
      "text/plain": [
       "5.66"
      ]
     },
     "execution_count": 22,
     "metadata": {},
     "output_type": "execute_result"
    }
   ],
   "source": [
    "d"
   ]
  },
  {
   "cell_type": "code",
   "execution_count": 23,
   "id": "2b2325ff-1ed9-4f04-88b0-71ed064adcc2",
   "metadata": {},
   "outputs": [],
   "source": [
    "#tuple\n",
    "t = [10,30, 40]"
   ]
  },
  {
   "cell_type": "code",
   "execution_count": 25,
   "id": "1ce7ba4e-7736-40c3-9bf7-a38a0161d175",
   "metadata": {},
   "outputs": [
    {
     "data": {
      "text/plain": [
       "[10, 30, 40]"
      ]
     },
     "execution_count": 25,
     "metadata": {},
     "output_type": "execute_result"
    }
   ],
   "source": [
    "t"
   ]
  },
  {
   "cell_type": "markdown",
   "id": "1f908635-fb35-4972-8abd-9eca92ac62d6",
   "metadata": {},
   "source": [
    "Q2. Given are some following variables containing data:"
   ]
  },
  {
   "cell_type": "code",
   "execution_count": 26,
   "id": "2629909c-147b-4ac6-8ccd-527f8abda98a",
   "metadata": {},
   "outputs": [],
   "source": [
    "var1 = ''\n",
    "var2 = '[ DS , ML , Python]'\n",
    "var3 = [ 'DS' , 'ML' , 'Python' ]\n",
    "var4 = 1."
   ]
  },
  {
   "cell_type": "code",
   "execution_count": 29,
   "id": "19725352-5402-4d03-a90e-b335e4683532",
   "metadata": {},
   "outputs": [
    {
     "data": {
      "text/plain": [
       "(str, str, list, float)"
      ]
     },
     "execution_count": 29,
     "metadata": {},
     "output_type": "execute_result"
    }
   ],
   "source": [
    "type(var1), type(var2), type(var3), type(var4)"
   ]
  },
  {
   "cell_type": "markdown",
   "id": "659fbb70-f0aa-4ef0-bd35-37f2b8367b42",
   "metadata": {},
   "source": [
    "Q3. Explain the use of the following operators using an example:"
   ]
  },
  {
   "cell_type": "code",
   "execution_count": 31,
   "id": "1875dc0d-6bc4-4c8b-a55f-9adc28db8616",
   "metadata": {},
   "outputs": [
    {
     "name": "stdout",
     "output_type": "stream",
     "text": [
      "3.6666666666666665\n",
      "2\n",
      "3\n",
      "125\n"
     ]
    }
   ],
   "source": [
    "#/ :-Division operator performs division between two numbers \n",
    "a = 11\n",
    "b = 3\n",
    "ans = a / b\n",
    "print(ans)\n",
    "\n",
    "# % :-  modulo operator calculates the remainder\n",
    "a = 20\n",
    "b = 3\n",
    "ans = a % b\n",
    "print(ans)\n",
    "\n",
    "\n",
    "#// :-  floor division operator performs division and returns the quotient\n",
    "\n",
    "a = 20\n",
    "b = 6\n",
    "ans = a // b\n",
    "print(ans)\n",
    "\n",
    "#** :- Exponentiation operator raises a number to a specified power.\n",
    "\n",
    "a = 5\n",
    "b = 3\n",
    "ans = a ** b\n",
    "print(ans)\n"
   ]
  },
  {
   "cell_type": "markdown",
   "id": "44c6aef7-5e5c-4aaa-b018-64bf8297c771",
   "metadata": {},
   "source": [
    "Q4. Create a list of length 10 of your choice containing multiple types of data. Using for loop print the\n",
    "element and its data type."
   ]
  },
  {
   "cell_type": "code",
   "execution_count": 36,
   "id": "04a5d28d-699a-4eac-b183-e27a63c1fc96",
   "metadata": {},
   "outputs": [
    {
     "name": "stdout",
     "output_type": "stream",
     "text": [
      "<class 'int'>\n",
      "<class 'int'>\n",
      "<class 'int'>\n",
      "<class 'str'>\n",
      "<class 'str'>\n",
      "<class 'float'>\n",
      "<class 'bool'>\n"
     ]
    }
   ],
   "source": [
    "l = [1,2,3,\"shubham\",\"Kumar\" , 23.45, True]\n",
    "for i in l:\n",
    "    print(type(i))"
   ]
  },
  {
   "cell_type": "markdown",
   "id": "7a06d2f4-a7a9-46a9-a208-d07e713c426b",
   "metadata": {},
   "source": [
    "Q5. Using a while loop, verify if the number A is purely divisible by number B and if so then how many\n",
    "times it can be divisible."
   ]
  },
  {
   "cell_type": "code",
   "execution_count": 1,
   "id": "e786d9a1-1e93-416b-9c9b-115ffa3a58e9",
   "metadata": {},
   "outputs": [
    {
     "name": "stdout",
     "output_type": "stream",
     "text": [
      "3\n"
     ]
    }
   ],
   "source": [
    "a = 40\n",
    "b = 2\n",
    "\n",
    "count = 0\n",
    "while a % b == 0:\n",
    "    a = a // b\n",
    "    count += 1\n",
    "\n",
    "print(count)\n"
   ]
  },
  {
   "cell_type": "markdown",
   "id": "28b963c8-ad34-4fff-902f-0d8e17d5beac",
   "metadata": {},
   "source": [
    "Q6. Create a list containing 25 int type data. Using for loop and if-else condition print if the element is\n",
    "divisible by 3 or not."
   ]
  },
  {
   "cell_type": "code",
   "execution_count": 3,
   "id": "159477c4-4e32-46cd-bc94-bb35ed42d372",
   "metadata": {},
   "outputs": [
    {
     "name": "stdout",
     "output_type": "stream",
     "text": [
      "not divisible by 3.\n",
      "divisible by 3.\n",
      "divisible by 3.\n",
      "divisible by 3.\n",
      "divisible by 3.\n",
      "divisible by 3.\n",
      "not divisible by 3.\n",
      "divisible by 3.\n",
      "not divisible by 3.\n",
      "divisible by 3.\n",
      "not divisible by 3.\n",
      "divisible by 3.\n",
      "not divisible by 3.\n",
      "not divisible by 3.\n",
      "not divisible by 3.\n",
      "divisible by 3.\n",
      "not divisible by 3.\n",
      "divisible by 3.\n",
      "not divisible by 3.\n",
      "divisible by 3.\n",
      "not divisible by 3.\n",
      "divisible by 3.\n",
      "not divisible by 3.\n",
      "not divisible by 3.\n",
      "not divisible by 3.\n"
     ]
    }
   ],
   "source": [
    "l = [11, 12, 15, 9, 12, 21, 20, 18, 5, 27, 8, 33, 14, 23, 25, 6, 19, 36, 16, 30, 13, 24, 4, 31, 28]\n",
    "\n",
    "for i in l:\n",
    "    if i % 3 == 0:\n",
    "        print( \"divisible by 3.\")\n",
    "    else:\n",
    "        print(\"not divisible by 3.\")\n"
   ]
  },
  {
   "cell_type": "markdown",
   "id": "45a97c9c-1d02-41fd-9541-615b5ca02474",
   "metadata": {},
   "source": [
    "Q7. What do you understand about mutable and immutable data types? Give examples for both showing\n",
    "this property."
   ]
  },
  {
   "cell_type": "code",
   "execution_count": 8,
   "id": "65135afb-0a42-4710-8ac5-031acb3934c3",
   "metadata": {},
   "outputs": [
    {
     "name": "stdout",
     "output_type": "stream",
     "text": [
      "pwskills\n",
      "PWSKILLS\n"
     ]
    }
   ],
   "source": [
    "'''Immutable data types are those whose values cannot be modified after they are created. \n",
    "it typically returns a new object rather than modifying the existing one'''\n",
    "s1 = \"pwskills\"\n",
    "s2 = s.upper()\n",
    "print(s1)\n",
    "print(s2)\n"
   ]
  },
  {
   "cell_type": "code",
   "execution_count": 9,
   "id": "119f09f2-084b-4ecf-b109-a247b0a5e6b5",
   "metadata": {},
   "outputs": [
    {
     "name": "stdout",
     "output_type": "stream",
     "text": [
      "[1, 2, 3, 4]\n",
      "[10, 2, 3, 4]\n"
     ]
    }
   ],
   "source": [
    "#Mutable data types, in contrast, allow their values to be modified after they are created\n",
    "\n",
    "L1 = [1, 2, 3]\n",
    "L1.append(4)\n",
    "print(L1)\n",
    "\n",
    "L2 = L1\n",
    "L2[0] = 10\n",
    "print(L1)\n"
   ]
  }
 ],
 "metadata": {
  "kernelspec": {
   "display_name": "Python 3 (ipykernel)",
   "language": "python",
   "name": "python3"
  },
  "language_info": {
   "codemirror_mode": {
    "name": "ipython",
    "version": 3
   },
   "file_extension": ".py",
   "mimetype": "text/x-python",
   "name": "python",
   "nbconvert_exporter": "python",
   "pygments_lexer": "ipython3",
   "version": "3.10.8"
  }
 },
 "nbformat": 4,
 "nbformat_minor": 5
}
